{
 "cells": [
  {
   "cell_type": "code",
   "execution_count": null,
   "metadata": {},
   "outputs": [],
   "source": [
    "# import libraries\n",
    "import numpy as np\n",
    "import pybullet as p\n",
    "import itertools\n",
    "from time import sleep\n",
    "\n",
    "# the main class to do the simulation\n",
    "from swarm_simulation import World\n",
    "\n",
    "\n",
    "# the main control loop\n",
    "\n",
    "#initialize the simulation\n",
    "world = World()\n",
    "\n",
    "t = 0.\n",
    "counter = 0\n",
    "\n",
    "# starts a simulation\n",
    "while True:\n",
    "    world.stepSimulation()"
   ]
  }
 ],
 "metadata": {
  "kernelspec": {
   "display_name": "Python 3",
   "language": "python",
   "name": "python3"
  },
  "language_info": {
   "codemirror_mode": {
    "name": "ipython",
    "version": 3
   },
   "file_extension": ".py",
   "mimetype": "text/x-python",
   "name": "python",
   "nbconvert_exporter": "python",
   "pygments_lexer": "ipython3",
   "version": "3.7.0"
  }
 },
 "nbformat": 4,
 "nbformat_minor": 2
}
